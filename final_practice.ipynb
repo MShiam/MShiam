{
  "nbformat": 4,
  "nbformat_minor": 0,
  "metadata": {
    "colab": {
      "name": "final_practice.ipynb",
      "private_outputs": true,
      "provenance": [],
      "authorship_tag": "ABX9TyMvfAY1Cpg9kxTfhlRo4rKC",
      "include_colab_link": true
    },
    "kernelspec": {
      "name": "python3",
      "display_name": "Python 3"
    },
    "language_info": {
      "name": "python"
    }
  },
  "cells": [
    {
      "cell_type": "markdown",
      "metadata": {
        "id": "view-in-github",
        "colab_type": "text"
      },
      "source": [
        "<a href=\"https://colab.research.google.com/github/MShiam/MShiam/blob/main/final_practice.ipynb\" target=\"_parent\"><img src=\"https://colab.research.google.com/assets/colab-badge.svg\" alt=\"Open In Colab\"/></a>"
      ]
    },
    {
      "cell_type": "markdown",
      "metadata": {
        "id": "qhjncse5VyWQ"
      },
      "source": [
        ""
      ]
    },
    {
      "cell_type": "code",
      "metadata": {
        "id": "be35D6y_1SkJ"
      },
      "source": [
        ""
      ],
      "execution_count": null,
      "outputs": []
    },
    {
      "cell_type": "code",
      "metadata": {
        "id": "eg_IU0hITNC7"
      },
      "source": [
        "class PlayerEarning:\n",
        "  def __init__(self,name):\n",
        "    self.name=name\n",
        "    self.goal=0\n",
        "  def calculateTotal(self,earn,goal=None):\n",
        "    self.earn=earn\n",
        "    self.goal=goal\n",
        "    if self.goal==None:\n",
        "      self.bonus=0\n",
        "    if self.goal!=None and self.goal>30:\n",
        "      self.bonus=(5/100)*self.earn + 10000\n",
        "    if self.goal!=None and self.goal<30:\n",
        "      self.bonus=(5/100)*self.earn\n",
        "  def printDetails(self):\n",
        "    print(f'Player name :{self.name}\\nEarning without bonus:{self.earn}\\nBonus:{self.bonus}')\n",
        "\n",
        "\n",
        "print(\"**********************\")\n",
        "player1 = PlayerEarning('Buffon')\n",
        "player1.calculateTotal(250000)\n",
        "player1.printDetails()\n",
        "\n",
        "print(\"\\n**********************\")\n",
        "player2 = PlayerEarning('Dybala')\n",
        "player2.calculateTotal(250000, 31)\n",
        "player2.printDetails()\n",
        "\n",
        "print(\"\\n**********************\")\n",
        "player3 = PlayerEarning('Cuadrado')\n",
        "player3.calculateTotal(250000, 20)\n",
        "player3.printDetails()\n"
      ],
      "execution_count": null,
      "outputs": []
    },
    {
      "cell_type": "code",
      "metadata": {
        "id": "ci4pL4sGW5rT"
      },
      "source": [
        "class myList:\n",
        "  def __init__(self,*args,L=[0,0,0]):\n",
        "    self.args=args\n",
        "    self.count=0\n",
        "    self.l=len(self.args)\n",
        "    for i in self.args:\n",
        "      self.count+=i\n",
        "    print(self.count)\n",
        "    print(self.l)\n",
        "  # def merge(*args):\n",
        "  #   self.x=args\n",
        "  #   self.l+=len(self.x)\n",
        "  #   for i in self.x:\n",
        "  #     self.count+=i\n",
        "  def sum(self):\n",
        "    print(f'Sum:{self.count}')\n",
        "  def average(self):\n",
        "    avg=self.count/self.l\n",
        "    print(f'Average:',avg)\n",
        "\n",
        "l1 =  myList(2,3,4,5,6) #you might need a list inside your class to store the values\n",
        "l1.sum()\n",
        "# l1.merge(4,5,9)\n",
        "l1.sum()\n",
        "l1.average()\n",
        "print('-----------------------------')\n",
        "l2 =  myList()\n",
        "l2.average()\n",
        "# l2.merge(1,2,4,8)\n",
        "l2.sum()\n",
        "\n"
      ],
      "execution_count": null,
      "outputs": []
    },
    {
      "cell_type": "code",
      "metadata": {
        "id": "lITzFdU4bjet"
      },
      "source": [
        "class Bird:\n",
        "  def __init__(self,name,c=False):\n",
        "      self.name=name\n",
        "      self.c=c\n",
        "  def fly(self):\n",
        "    if self.c==False:\n",
        "      self.t='Flightless Birds'\n",
        "      print(f'{self.name} can not fly')\n",
        "    else:\n",
        "      print(f'{self.name} can fly')\n",
        "  def setType(self,n):\n",
        "    self.t=n\n",
        "  def printDetail(self):\n",
        "    print(f'name:{self.name}\\nType:{self.t}')\n",
        "\n",
        "\n",
        "\n",
        "ostrich = Bird('Ostrich')\n",
        "duck = Bird(\"Duck\", True)\n",
        "owl = Bird('Owl', True)\n",
        "print('###########################')\n",
        "ostrich.fly()\n",
        "duck.fly()\n",
        "owl.fly()\n",
        "duck.setType('Water Birds')\n",
        "owl.setType('Birds of Prey')\n",
        "print('=========================')\n",
        "ostrich.printDetail()\n",
        "print('=========================')\n",
        "duck.printDetail()\n",
        "print('=========================')\n",
        "owl.printDetail()\n",
        "\n"
      ],
      "execution_count": null,
      "outputs": []
    },
    {
      "cell_type": "code",
      "metadata": {
        "id": "lBMsQMdAdHhc"
      },
      "source": [
        "class Account:\n",
        "  count=0\n",
        "  def __init__(self,name,age,p,b):\n",
        "          self.name=name\n",
        "          self.age=age\n",
        "          self.pos=p\n",
        "          self.balance=b\n",
        "          Account.count+=1\n",
        "  def addMoney(self,m):\n",
        "    self.add=m\n",
        "    self.money=self.balance+self.add\n",
        "  def withdrawMoney(self,m):\n",
        "    self.wit=m\n",
        "    self.money=self.balance-self.wit\n",
        "  def printDetails(self):\n",
        "    print(f'Name :{self.name}\\nAge:{self.age}\\noccupation:{self.pos}\\nBalance:{self.money}')\n",
        "\n",
        "print('No of account holders:', Account.count)\n",
        "print(\"=========================\")\n",
        "p1 = Account(\"Abdul\", 45, \"Service Holder\", 500000)\n",
        "p1.addMoney(300000)\n",
        "p1.printDetails()\n",
        "print(\"=========================\")\n",
        "p2 = Account(\"Rahim\", 55, \"Businessman\", 700000)\n",
        "p2.withdrawMoney(700000)\n",
        "p2.printDetails()\n",
        "print(\"=========================\")\n",
        "p3 = Account(\"Ashraf\", 62, \"Govt. Officer\", 200000)\n",
        "p3.withdrawMoney(250000)\n",
        "p3.printDetails()\n",
        "print(\"=========================\") \n",
        "print('No of account holders:', Account.count)\n"
      ],
      "execution_count": null,
      "outputs": []
    },
    {
      "cell_type": "code",
      "metadata": {
        "id": "znBz1BsHkNcc"
      },
      "source": [
        "class Smartphone:\n",
        "  def __init__(self,name=None):\n",
        "    self.name=name\n",
        "    self.d={}\n",
        "    if self.name==None:\n",
        "        print('Feature can not be added without phone name')\n",
        "  def addFeature(self,n1,n2):\n",
        "    if n1 not in self.d:\n",
        "       self.d.update({n1:n2})\n",
        "    else:\n",
        "      if self.d[n1]!=n2:\n",
        "         self.d[n1]=self.d[n1]+','+n2\n",
        "      # print(n1)\n",
        "      # print(n2)\n",
        "  def setName(self,name):\n",
        "    self.name=name\n",
        "  def printDetail(self):\n",
        "    print(f'Phone name:{self.name}')\n",
        "    for i,j in self.d.items():\n",
        "      print(i,\":\",j)\n",
        "  \n",
        "\n",
        "s1 = Smartphone()\n",
        "print(\"=================================\")\n",
        "s1.addFeature('Display','6.1 inch')\n",
        "print(\"=================================\")\n",
        "s1.setName('Samsung Note 20')\n",
        "s1.addFeature('Display','6.1 inch')\n",
        "s1.printDetail()\n",
        "print(\"=================================\")\n",
        "s2 = Smartphone('Iphone 12 Pro')\n",
        "s2.addFeature('Display','6.2 inch')\n",
        "s2.addFeature('Ram','6 GB')\n",
        "print('=================================')\n",
        "s2.printDetail()\n",
        "s2.addFeature('Display','Amoled panel')\n",
        "s2.addFeature('Ram','DDR5')\n",
        "print(\"=================================\")\n",
        "s2.printDetail()\n",
        "print(\"=================================\")"
      ],
      "execution_count": null,
      "outputs": []
    },
    {
      "cell_type": "code",
      "metadata": {
        "id": "V-j7PMnu1PRh"
      },
      "source": [
        "class Student:\n",
        "  count_t=0\n",
        "  count_c=0\n",
        "  count_b=0\n",
        "  def __init__(self,name,dept):\n",
        "    self.name=name\n",
        "    self.dept=dept\n",
        "    Student.count_t+=1\n",
        "    print(f'Creating Student Number:{Student.count_t}')\n",
        "  def individualInfo(self):\n",
        "    print(f'{self.name} is from {self.dept}\\nSerial of {self.name} among all student is {Student.count_t}')\n",
        "    if self.dept=='CSE':\n",
        "      Student.count_c+=1\n",
        "      print(f'serial of {self.name} is {self.dept} is {Student.count_c} ')\n",
        "    else:\n",
        "      Student.count_b+=1\n",
        "      print(f'serial of {self.name} is {self.dept} is {Student.count_b} ')\n",
        "  def totalInfo(self):\n",
        "    print(f'Total number of student :{Student.count_t}\\nTotal number of cse student {Student.count_c}\\nTotal number of bba student :{Student.count_b}')\n",
        "\n",
        "s1 = Student(\"Naruto\", \"CSE\")\n",
        "print('----------------------')\n",
        "s1.individualInfo()\n",
        "print('#############################')\n",
        "s1.totalInfo()\n",
        "print('============================')\n",
        " \n",
        "s2 = Student(\"Sakura\", \"BBA\")\n",
        "print('----------------------')\n",
        "s2.individualInfo()\n",
        "print('#############################')\n",
        "s2.totalInfo()\n",
        "print('============================')\n",
        " \n",
        "s3 = Student(\"Shikamaru\", \"CSE\")\n",
        "print('----------------------')\n",
        "s3.individualInfo()\n",
        "print('#############################')\n",
        "s3.totalInfo()\n",
        "print('============================')\n",
        " \n",
        "s4 = Student(\"Deidara\", \"BBA\")\n",
        "print('----------------------')\n",
        "s4.individualInfo()\n",
        "print('#############################')\n",
        "s4.totalInfo()\n",
        "\n"
      ],
      "execution_count": null,
      "outputs": []
    }
  ]
}